{
 "cells": [
  {
   "cell_type": "markdown",
   "metadata": {
    "slideshow": {
     "slide_type": "slide"
    }
   },
   "source": [
    "<center>\n",
    "<img src=\"http://www.unixstickers.com/image/data/stickers/python/python_sh.png\" width=\"180px\" style=\"display: inline-block; margin-top: 5px; padding-left: 40px\">\n",
    "<img src=\"http://www.clipartbest.com/cliparts/LcK/7kd/LcK7kdpki.png\" width=\"50px\"  style=\"display: inline-block; margin-top: 5px\">\n",
    "<img src=\"https://images.duckduckgo.com/iu/?u=https%3A%2F%2Ftse4.mm.bing.net%2Fth%3Fid%3DOIP.41EZV9XTuZuKKW4smyLsyQEsEs%26pid%3D15.1&f=1\" width=\"220px\" style=\"display: inline-block; margin-top: 5px;\">\n",
    "<img src=\"http://www.clipartbest.com/cliparts/LcK/7kd/LcK7kdpki.png\" width=\"50px\"  style=\"display: inline-block; margin-top: 5px;\">\n",
    "<img src=\"http://www.knowledge7.com/wp-content/uploads/2014/06/20140619-git-logo.jpg\" width=\"220px\" style=\"display: inline-block; margin-top: 5px\">\n",
    "<center>\n",
    "<br>\n",
    "\n",
    "<center>  <font size=\"6\"> <strong> An Introduction <strong> </font>  <center>\n",
    "<br>\n",
    "<center>  <font size=\"3\"> by </font>  <center>\n",
    "<br>\n",
    "<center>  <font size=\"4.5\" color=\"blue\"> Bonny Dongre </font>  <center>\n",
    "<br>\n",
    "<center>  <font size=\"3\">sektor5, Wien <font> <center>  \n",
    "<center>  <font size=\"3\">Friday, 18$^\\mathrm{th}$ August 2017. <font> <center>"
   ]
  },
  {
   "cell_type": "markdown",
   "metadata": {
    "slideshow": {
     "slide_type": "slide"
    }
   },
   "source": [
    "# Contents\n",
    "- Introduction\n",
    "- Wokred out examples\n",
    "- Q&A, Feedback\n"
   ]
  },
  {
   "cell_type": "markdown",
   "metadata": {
    "slideshow": {
     "slide_type": "slide"
    }
   },
   "source": [
    "## Introduction\n",
    "<center> <img src=\"http://www.topnewsage.com/wp-content/uploads/Top-image-232x300.png\" width=\"150px\" style=\"display: inline-block; margin-top: 5px\" align=\"middle\"><center>"
   ]
  },
  {
   "cell_type": "markdown",
   "metadata": {
    "slideshow": {
     "slide_type": "fragment"
    }
   },
   "source": [
    "Why you should learn **Python** now!\n",
    "<center><img src=\"https://qph.ec.quoracdn.net/main-qimg-f25f4b589738d457b4ec495d23e2866a-c\" width=\"400px\" style=\"display: inline-block; margin-top: 5px; padding-right: 40px\">\n",
    "<img src=\"http://adtmag.com/articles/2015/01/08/~/media/ECG/adtmag/Images/2014/01/pypl_2014.png\" width=\"345px\" style=\"display: inline-block; margin-top: 5px\"><center>"
   ]
  },
  {
   "cell_type": "markdown",
   "metadata": {
    "slideshow": {
     "slide_type": "slide"
    }
   },
   "source": [
    "## Introduction\n",
    "Why Linux: \n",
    "- Because everyone cannot afford Windows or MacOS\n",
    "- Its free, Open source\n",
    "- No insane license restrictions\n",
    "- Immune to Windows malware, and you don't need anti-malware software"
   ]
  },
  {
   "cell_type": "markdown",
   "metadata": {
    "slideshow": {
     "slide_type": "fragment"
    }
   },
   "source": [
    "Why Git:\n",
    "<br>\n",
    "If you have been saving file like this all your life\n",
    "\n",
    "- myfile_version1.txt\n",
    "- myfile_version2.txt\n",
    "- myfile_new.txt\n",
    "- myfile_wrong.txt\n",
    "- myfile_correct.txt\n",
    "- myfile_original.txt\n",
    "- myfile_I_am_running_out_of_names.txt\n",
    "- myfile_I_dont_want_to_live_anymore.txt\n",
    "- myfile_arghh_version3.txt\n",
    "\n",
    "then please embrace GIT. \n"
   ]
  },
  {
   "cell_type": "markdown",
   "metadata": {
    "slideshow": {
     "slide_type": "slide"
    }
   },
   "source": [
    "## Introduction\n",
    "\n",
    "### **What is Git?**\n",
    "> - Git is a version control system for tracking changes in computer files and coordinating work on those files among multiple people. \n",
    "> - It is primarily used for source code management in software development, but it can be used to keep track of changes in any set of files.\n",
    "\n",
    "### The three States in Git\n",
    "\n",
    "<center><img src=\"https://git-scm.com/book/en/v2/images/areas.png\" width=\"500px\" style=\"display: inline-block; margin-top: 5px; padding-right: 40px\">"
   ]
  },
  {
   "cell_type": "markdown",
   "metadata": {
    "slideshow": {
     "slide_type": "slide"
    }
   },
   "source": [
    "### Recording Changes to the Repository\n",
    "\n",
    "<center><img src=\"https://git-scm.com/book/en/v2/images/lifecycle.png\" width=\"650px\" style=\"display: inline-block; margin-top: 5px; padding-right: 40px\">"
   ]
  },
  {
   "cell_type": "code",
   "execution_count": null,
   "metadata": {
    "collapsed": true,
    "slideshow": {
     "slide_type": "skip"
    }
   },
   "outputs": [],
   "source": []
  },
  {
   "cell_type": "code",
   "execution_count": null,
   "metadata": {
    "collapsed": true,
    "slideshow": {
     "slide_type": "skip"
    }
   },
   "outputs": [],
   "source": []
  }
 ],
 "metadata": {
  "celltoolbar": "Slideshow",
  "kernelspec": {
   "display_name": "Python 2",
   "language": "python",
   "name": "python2"
  },
  "language_info": {
   "codemirror_mode": {
    "name": "ipython",
    "version": 2
   },
   "file_extension": ".py",
   "mimetype": "text/x-python",
   "name": "python",
   "nbconvert_exporter": "python",
   "pygments_lexer": "ipython2",
   "version": "2.7.13"
  }
 },
 "nbformat": 4,
 "nbformat_minor": 2
}
