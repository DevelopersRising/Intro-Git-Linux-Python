{
 "cells": [
  {
   "cell_type": "markdown",
   "metadata": {
    "slideshow": {
     "slide_type": "slide"
    }
   },
   "source": [
    "<center>\n",
    "<img src=\"http://www.unixstickers.com/image/data/stickers/python/python_sh.png\" width=\"150px\" style=\"display: inline-block; margin-top: 5px; \">\n",
    "<img src=\"http://www.clipartbest.com/cliparts/LcK/7kd/LcK7kdpki.png\" width=\"50px\"  style=\"display: inline-block; margin-top: 5px\">\n",
    "<img src=\"https://images.duckduckgo.com/iu/?u=https%3A%2F%2Ftse4.mm.bing.net%2Fth%3Fid%3DOIP.41EZV9XTuZuKKW4smyLsyQEsEs%26pid%3D15.1&f=1\" width=\"220px\" style=\"display: inline-block; margin-top: 5px;\">\n",
    "<img src=\"http://www.clipartbest.com/cliparts/LcK/7kd/LcK7kdpki.png\" width=\"50px\"  style=\"display: inline-block; margin-top: 5px;\">\n",
    "<img src=\"http://www.knowledge7.com/wp-content/uploads/2014/06/20140619-git-logo.jpg\" width=\"220px\" style=\"display: inline-block; margin-top: 5px\">  \n",
    "<br>\n",
    "<font size=\"3\"> <strong> An Introduction <strong> </font>  \n",
    "<br>\n",
    "<font size=\"2\"> by </font>  \n",
    "<br>\n",
    "<font size=\"2.5\" color=\"blue\"> Bonny Dongre </font>  \n",
    "<br>\n",
    "<font size=\"2\">sektor5, Wien </font>  \n",
    "<br>\n",
    "<font size=\"2\">Friday, 18$^\\mathrm{th}$ August 2017. </font> \n",
    "</center>"
   ]
  },
  {
   "cell_type": "markdown",
   "metadata": {
    "slideshow": {
     "slide_type": "slide"
    }
   },
   "source": [
    "\n",
    "# Contents\n",
    "\n",
    "## * Introduction\n",
    "   * Python\n",
    "   * Linux\n",
    "   * Git  \n",
    "   \n",
    "## * Tutorial with worked out examples\n",
    "## * Outlook\n",
    "## * Q&A, Feedback\n",
    "\n"
   ]
  },
  {
   "cell_type": "markdown",
   "metadata": {
    "slideshow": {
     "slide_type": "slide"
    }
   },
   "source": [
    "# Introduction\n",
    "## Why Python:\n",
    "<center> <img src=\"http://www.topnewsage.com/wp-content/uploads/Top-image-232x300.png\" width=\"270px\" style=\"display: inline-block; margin-top: 5px\" align=\"middle\"><center>"
   ]
  },
  {
   "cell_type": "markdown",
   "metadata": {
    "slideshow": {
     "slide_type": "subslide"
    }
   },
   "source": [
    "<center><img src=\"https://qph.ec.quoracdn.net/main-qimg-f25f4b589738d457b4ec495d23e2866a-c\" width=\"410px\" style=\"display: inline-block; margin-top: 5px; padding-right: 40px\">\n",
    "<img src=\"http://adtmag.com/articles/2015/01/08/~/media/ECG/adtmag/Images/2014/01/pypl_2014.png\" width=\"350px\" style=\"display: inline-block; margin-top: 5px\"><center>"
   ]
  },
  {
   "cell_type": "markdown",
   "metadata": {
    "slideshow": {
     "slide_type": "subslide"
    }
   },
   "source": [
    "## Why Linux: \n",
    "* Because everyone cannot afford Windows or MacOS\n",
    "* Its free, Open source\n",
    "* No insane license restrictions\n",
    "* Immune to Windows malware, and you don't need anti-malware software"
   ]
  },
  {
   "cell_type": "markdown",
   "metadata": {
    "slideshow": {
     "slide_type": "subslide"
    }
   },
   "source": [
    "## Why Git:\n",
    "If you have been saving file like this all your life\n",
    "* myfile_version1.txt\n",
    "* myfile_version2.txt\n",
    "* myfile_new.txt\n",
    "* myfile_wrong.txt\n",
    "* myfile_correct.txt\n",
    "* myfile_original.txt\n",
    "* myfile_I_am_running_out_of_names.txt\n",
    "* myfile_I_dont_want_to_live_anymore.txt\n",
    "* myfile_arghh_version3.txt\n",
    "\n",
    "then please embrace GIT. \n"
   ]
  },
  {
   "cell_type": "markdown",
   "metadata": {
    "slideshow": {
     "slide_type": "slide"
    }
   },
   "source": [
    "### What is Git?\n",
    "> * Git is a **version control** system for tracking changes in computer files and coordinating work on those files among multiple people. \n",
    "> * It is primarily used for **source code management** in software development, but it can be used to keep track of changes in any set of files."
   ]
  },
  {
   "cell_type": "markdown",
   "metadata": {
    "slideshow": {
     "slide_type": "subslide"
    }
   },
   "source": [
    "### The three States in Git\n",
    "\n",
    "<center><img src=\"https://git-scm.com/book/en/v2/images/areas.png\" width=\"750px\" style=\"display: inline-block; margin-top: 5px; padding-right: 40px\">"
   ]
  },
  {
   "cell_type": "markdown",
   "metadata": {
    "slideshow": {
     "slide_type": "subslide"
    }
   },
   "source": [
    "### Recording Changes to the Repository\n",
    "\n",
    "<center><img src=\"https://git-scm.com/book/en/v2/images/lifecycle.png\" width=\"1950px\" style=\"display: inline-block; margin-top: 5px; padding-right: 40px\">"
   ]
  },
  {
   "cell_type": "markdown",
   "metadata": {
    "collapsed": true,
    "slideshow": {
     "slide_type": "slide"
    }
   },
   "source": [
    "## Let's get started!\n",
    "\n",
    "First things first! Git needs to know you.\n",
    ">``` bash\n",
    "> git config --global user.name \"Your Name\"\n",
    "> git config --global user.email \"your_email@whatever.com\"\n",
    ">```\n",
    "\n",
    "Customary \"Hello, World!\" program. Execute the commad\n",
    "> ```bash\n",
    "> mkdir hello\n",
    "> cd hello\n",
    "> ```\n",
    "\n",
    "Open a file, type the following in it, and save it as \"hello.py\".\n",
    "> ```python\n",
    "> print \"Hello, World!\"\n",
    "> ``` \n"
   ]
  },
  {
   "cell_type": "markdown",
   "metadata": {
    "collapsed": true,
    "slideshow": {
     "slide_type": "slide"
    }
   },
   "source": [
    "Intialize Git.\n",
    "> ```bash\n",
    "> git init\n",
    "> ```\n",
    "\n",
    "Check Git status\n",
    "> ```bash\n",
    "> git status\n",
    "> ```"
   ]
  },
  {
   "cell_type": "code",
   "execution_count": 4,
   "metadata": {
    "collapsed": false,
    "scrolled": true
   },
   "outputs": [
    {
     "name": "stdout",
     "output_type": "stream",
     "text": [
      "Reinitialized existing Git repository in C:/Users/bonny/Desktop/meetup_180817/.git/\n",
      "On branch master\n",
      "Your branch is up-to-date with 'origin/master'.\n",
      "\n",
      "Changes not staged for commit:\n",
      "  (use \"git add <file>...\" to update what will be committed)\n",
      "  (use \"git checkout -- <file>...\" to discard changes in working directory)\n",
      "\n",
      "\tmodified:   .ipynb_checkpoints/FreeCodeCamp_presentation-checkpoint.ipynb\n",
      "\tmodified:   FreeCodeCamp_presentation.ipynb\n",
      "\tmodified:   FreeCodeCamp_presentation.slides.html\n",
      "\tmodified:   jupyter_template.tpl\n",
      "\n",
      "Untracked files:\n",
      "  (use \"git add <file>...\" to include in what will be committed)\n",
      "\n",
      "\tFreeCodeCamp_presentation_new.pdf\n",
      "\n",
      "no changes added to commit (use \"git add\" and/or \"git commit -a\")\n"
     ]
    }
   ],
   "source": [
    "#The output should be:\n",
    "!mkdir hello\n",
    "!cd hello\n",
    "!git init\n",
    "!git status\n"
   ]
  },
  {
   "cell_type": "markdown",
   "metadata": {
    "collapsed": true
   },
   "source": [
    "<script>\n",
    "\tvar link = document.createElement( 'link' );\n",
    "\tlink.rel = 'stylesheet';\n",
    "\tlink.type = 'text/css';\n",
    "\tlink.href = window.location.search.match( /print-pdf/gi ) ? 'css/print/pdf.css' : 'css/print/paper.css';\n",
    "\tdocument.getElementsByTagName( 'head' )[0].appendChild( link );\n",
    "</script>"
   ]
  }
 ],
 "metadata": {
  "celltoolbar": "Slideshow",
  "kernelspec": {
   "display_name": "Python 2",
   "language": "python",
   "name": "python2"
  },
  "language_info": {
   "codemirror_mode": {
    "name": "ipython",
    "version": 2
   },
   "file_extension": ".py",
   "mimetype": "text/x-python",
   "name": "python",
   "nbconvert_exporter": "python",
   "pygments_lexer": "ipython2",
   "version": "2.7.13"
  }
 },
 "nbformat": 4,
 "nbformat_minor": 2
}
