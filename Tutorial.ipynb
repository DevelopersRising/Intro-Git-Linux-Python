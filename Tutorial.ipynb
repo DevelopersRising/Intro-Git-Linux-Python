{
 "cells": [
  {
   "cell_type": "markdown",
   "metadata": {},
   "source": [
    "# <center >Tutorial and worked out examples.\n",
    "\n",
    "## Let's get started!\n",
    "\n",
    "Customary \"Hello, World!\" program. Execute the commad\n",
    "> ```bash\n",
    "> mkdir mygit\n",
    "> cd mygit\n",
    "> ```\n",
    "\n",
    "Open a file, type the following in it, and save it as \"hello.py\".\n",
    "> ```python\n",
    "> print \"Hello, World!\"\n",
    "> ``` "
   ]
  },
  {
   "cell_type": "markdown",
   "metadata": {},
   "source": [
    "___\n",
    "## First things first! Git needs to know you.\n",
    ">``` bash\n",
    "> git config --global user.name \"Your Name\"\n",
    "> git config --global user.email \"your_email@whatever.com\">\n",
    ">```\n",
    "\n",
    "## Most important Git commands\n",
    ">``` bash\n",
    ">* git status\n",
    ">* git log\n",
    ">* git add\n",
    ">* git commit -m \"Your log message\"\n",
    ">* git checkout \n",
    ">```"
   ]
  },
  {
   "cell_type": "markdown",
   "metadata": {},
   "source": [
    "___\n",
    "## Initiate git repository"
   ]
  },
  {
   "cell_type": "code",
   "execution_count": 6,
   "metadata": {
    "collapsed": false
   },
   "outputs": [
    {
     "name": "stdout",
     "output_type": "stream",
     "text": [
      "Initialized empty Git repository in C:/Users/bonny/Desktop/meetup_180817/hello/.git/\n"
     ]
    }
   ],
   "source": [
    "! git init"
   ]
  },
  {
   "cell_type": "markdown",
   "metadata": {
    "collapsed": false
   },
   "source": [
    "___\n",
    "Now we are in the \"**mygit**\" folder which has the **.git** directory. \n",
    "\n",
    "With the help of this **.git** directory Git will keep a track of the changes committed in the **mygit** folder.\n",
    "\n",
    "Do an \"ls -a\" to list all the files (including the hindden ones) in the current folder."
   ]
  },
  {
   "cell_type": "code",
   "execution_count": 25,
   "metadata": {
    "collapsed": false
   },
   "outputs": [
    {
     "name": "stdout",
     "output_type": "stream",
     "text": [
      ".\n",
      "..\n",
      ".git\n",
      ".gitignore\n",
      ".ipynb_checkpoints\n",
      "hello.py\n",
      "Tutorial.ipynb\n"
     ]
    }
   ],
   "source": [
    "! ls -a"
   ]
  },
  {
   "cell_type": "markdown",
   "metadata": {},
   "source": [
    "___\n",
    "Run the script \"hello.py\" with python as follows and check the output"
   ]
  },
  {
   "cell_type": "code",
   "execution_count": 23,
   "metadata": {
    "collapsed": false,
    "scrolled": true
   },
   "outputs": [
    {
     "name": "stdout",
     "output_type": "stream",
     "text": [
      "Hello, World!\n"
     ]
    }
   ],
   "source": [
    "! python hello.py"
   ]
  },
  {
   "cell_type": "markdown",
   "metadata": {},
   "source": [
    "___\n",
    "# Now the magic begins!"
   ]
  },
  {
   "cell_type": "markdown",
   "metadata": {},
   "source": [
    "Its always a good idea to check the status of our work with \"**git status**\" command.\n",
    "\n",
    "So let's do it."
   ]
  },
  {
   "cell_type": "code",
   "execution_count": 26,
   "metadata": {
    "collapsed": false
   },
   "outputs": [
    {
     "name": "stdout",
     "output_type": "stream",
     "text": [
      "On branch master\n",
      "\n",
      "No commits yet\n",
      "\n",
      "Untracked files:\n",
      "  (use \"git add <file>...\" to include in what will be committed)\n",
      "\n",
      "\t.gitignore\n",
      "\thello.py\n",
      "\n",
      "nothing added to commit but untracked files present (use \"git add\" to track)\n"
     ]
    }
   ],
   "source": [
    "! git status"
   ]
  },
  {
   "cell_type": "markdown",
   "metadata": {},
   "source": [
    "___\n",
    "As you can see the output message is self explainatory.\n",
    "\n",
    "- The first line tell us our current branch. In git it is possible to work with different branches. But we will leave it for advanced tutorials.\n",
    "\n",
    "- The second line tells us that git has **not** recorded anything in its memory yet, i.e. it cannot help us retreive our work if we lose it at this moment.\n",
    "\n",
    "- Since **hello.py** is a new file, git marks it as **untracked**.\n",
    "\n",
    "- Git tell us to **add** the file to the **staging area** to be able to commit it.\n",
    "___"
   ]
  },
  {
   "cell_type": "markdown",
   "metadata": {},
   "source": [
    "## Git guides you. It is your best friend."
   ]
  },
  {
   "cell_type": "markdown",
   "metadata": {},
   "source": [
    "Let's do what git wants us to."
   ]
  },
  {
   "cell_type": "code",
   "execution_count": 32,
   "metadata": {
    "collapsed": false
   },
   "outputs": [
    {
     "name": "stderr",
     "output_type": "stream",
     "text": [
      "warning: LF will be replaced by CRLF in hello.py.\n",
      "The file will have its original line endings in your working directory.\n"
     ]
    }
   ],
   "source": [
    "! git add hello.py"
   ]
  },
  {
   "cell_type": "markdown",
   "metadata": {},
   "source": [
    "___\n",
    "Again do a **git status** to check what has happened\n"
   ]
  },
  {
   "cell_type": "code",
   "execution_count": 33,
   "metadata": {
    "collapsed": false
   },
   "outputs": [
    {
     "name": "stdout",
     "output_type": "stream",
     "text": [
      "On branch master\n",
      "\n",
      "No commits yet\n",
      "\n",
      "Changes to be committed:\n",
      "  (use \"git rm --cached <file>...\" to unstage)\n",
      "\n",
      "\tnew file:   hello.py\n",
      "\n",
      "Untracked files:\n",
      "  (use \"git add <file>...\" to include in what will be committed)\n",
      "\n",
      "\t.gitignore\n",
      "\n"
     ]
    }
   ],
   "source": [
    "! git status\n"
   ]
  },
  {
   "cell_type": "markdown",
   "metadata": {},
   "source": [
    "___\n",
    "Git tells us that the **hello.py** file has been staged and is read to be committed to the .git repository.\n",
    "\n",
    "Commit the file and see what happens."
   ]
  },
  {
   "cell_type": "code",
   "execution_count": 35,
   "metadata": {
    "collapsed": false
   },
   "outputs": [
    {
     "name": "stdout",
     "output_type": "stream",
     "text": [
      "[master (root-commit) 9b69748] My first git commit of the hello python script\n",
      " 1 file changed, 1 insertion(+)\n",
      " create mode 100644 hello.py\n"
     ]
    }
   ],
   "source": [
    "! git commit -m \"My first git commit of the hello python script\""
   ]
  },
  {
   "cell_type": "markdown",
   "metadata": {},
   "source": [
    "___\n",
    "After the **commit** git has a recorded version of the file **hello.py** which means that:\n",
    "\n",
    "this versison of the file can be later accessed with the SHA-1 checksum number (9b69748)."
   ]
  },
  {
   "cell_type": "code",
   "execution_count": 3,
   "metadata": {
    "collapsed": false
   },
   "outputs": [
    {
     "name": "stdout",
     "output_type": "stream",
     "text": [
      "On branch master\n",
      "nothing to commit, working tree clean\n"
     ]
    }
   ],
   "source": [
    "! git status"
   ]
  },
  {
   "cell_type": "markdown",
   "metadata": {
    "collapsed": true
   },
   "source": [
    "___\n",
    "* Now, once we have added and committed our files, git tells us that we are still on our **master** branch, which has nothing to commit and everything is clean.\n",
    "* This marks a big step in learning what git does. \n",
    "* Adding files to the staging area and commiting staged files make a big chunk of git work that one has to performs during coding."
   ]
  },
  {
   "cell_type": "markdown",
   "metadata": {},
   "source": [
    "___\n",
    "### Lets make some changes to the \"**hello.py**\" file and dig a little deeper into Git. "
   ]
  },
  {
   "cell_type": "markdown",
   "metadata": {},
   "source": [
    "#### Our aim is to take arguments from the command line and print them by calling the python file.\n",
    "\n",
    "\n",
    "Open the **hello.py** file and add the following code in it.\n",
    ">``` python\n",
    "> import sys            # imports the sys module which helps us read the command line arguments.\n",
    "> args = sys.argv       # sys.args returns a list of arguments which we store as variable args\n",
    "> print args            # print the list \"args\"\n",
    "> if len(args) > 1 and len(args)==3:     #if condition to check if we provided arguments in the command line.\n",
    ">    print args[1], args[2]              # print the desired arguments\n",
    "> else:\n",
    ">    print \"WARNING! You didnot give any or gave more than 2 arguments hence printing default! \\n \\n\" \n",
    ">    print \"Hello, World!\"               # if no arguments provided print the default \"Hello, World!\"\n",
    "> ```\n",
    "\n",
    "Run the script."
   ]
  },
  {
   "cell_type": "code",
   "execution_count": 9,
   "metadata": {
    "collapsed": false
   },
   "outputs": [
    {
     "name": "stdout",
     "output_type": "stream",
     "text": [
      "['hello.py']\n",
      "WARNING! You didnot give any or gave more than 2 arguments hence printing default! \n",
      " \n",
      "\n",
      "Hello, World!\n"
     ]
    }
   ],
   "source": [
    "# Running without any argument.\n",
    "! python hello.py"
   ]
  },
  {
   "cell_type": "code",
   "execution_count": 10,
   "metadata": {
    "collapsed": false
   },
   "outputs": [
    {
     "name": "stdout",
     "output_type": "stream",
     "text": [
      "['hello.py', 'Hello,', 'World!']\n",
      "Hello, World!\n"
     ]
    }
   ],
   "source": [
    "# Running with arguments.\n",
    "! python hello.py Hello, World!"
   ]
  },
  {
   "cell_type": "code",
   "execution_count": 5,
   "metadata": {
    "collapsed": false
   },
   "outputs": [
    {
     "name": "stdout",
     "output_type": "stream",
     "text": [
      "['hello.py', 'babies', 'are', 'cute']\n",
      "WARNING! You didnot give any or gave more than 2 arguments hence printing default! \n",
      " \n",
      "\n",
      "Hello, World!\n"
     ]
    }
   ],
   "source": [
    "# Running with more than 2 arguments\n",
    "! python hello.py babies are cute"
   ]
  },
  {
   "cell_type": "markdown",
   "metadata": {},
   "source": [
    "___\n",
    "#### Lets see what Git has to say about the changes!\n",
    "\n",
    "Now we know what to do.\n",
    "\n",
    "Yes you guessed it right. \n",
    "\n",
    "Its **git status**."
   ]
  },
  {
   "cell_type": "code",
   "execution_count": 13,
   "metadata": {
    "collapsed": false
   },
   "outputs": [
    {
     "name": "stdout",
     "output_type": "stream",
     "text": [
      "On branch master\n",
      "Changes not staged for commit:\n",
      "  (use \"git add <file>...\" to update what will be committed)\n",
      "  (use \"git checkout -- <file>...\" to discard changes in working directory)\n",
      "\n",
      "\tmodified:   hello.py\n",
      "\n",
      "no changes added to commit (use \"git add\" and/or \"git commit -a\")\n"
     ]
    }
   ],
   "source": [
    "! git status"
   ]
  },
  {
   "cell_type": "markdown",
   "metadata": {},
   "source": [
    "___\n",
    "Git tells three important things here.\n",
    "> 1. Since the file is **modified** it needs to be staged again.\n",
    "> 2. If we think that we donot want to keep the changes that we did to the script, we can **discard** them by doing what git says. If we do that git will take the file to the last commit state, which in our case was just a print statement.\n",
    "\n",
    "\n",
    "We can **add** and **commit** our changes now. "
   ]
  },
  {
   "cell_type": "code",
   "execution_count": 14,
   "metadata": {
    "collapsed": false
   },
   "outputs": [
    {
     "name": "stderr",
     "output_type": "stream",
     "text": [
      "warning: LF will be replaced by CRLF in hello.py.\n",
      "The file will have its original line endings in your working directory.\n"
     ]
    }
   ],
   "source": [
    "! git add hello.py"
   ]
  },
  {
   "cell_type": "code",
   "execution_count": 15,
   "metadata": {
    "collapsed": false
   },
   "outputs": [
    {
     "name": "stdout",
     "output_type": "stream",
     "text": [
      "On branch master\n",
      "Changes to be committed:\n",
      "  (use \"git reset HEAD <file>...\" to unstage)\n",
      "\n",
      "\tmodified:   hello.py\n",
      "\n"
     ]
    }
   ],
   "source": [
    "! git status"
   ]
  },
  {
   "cell_type": "markdown",
   "metadata": {},
   "source": [
    "___\n",
    "Any file that has been staged can be unstaged using the **reseat HEAD** command.\n",
    "\n",
    "Lets try it."
   ]
  },
  {
   "cell_type": "code",
   "execution_count": 16,
   "metadata": {
    "collapsed": false
   },
   "outputs": [
    {
     "name": "stdout",
     "output_type": "stream",
     "text": [
      "Unstaged changes after reset:\n",
      "M\thello.py\n"
     ]
    }
   ],
   "source": [
    "! git reset HEAD hello.py"
   ]
  },
  {
   "cell_type": "code",
   "execution_count": 17,
   "metadata": {
    "collapsed": false
   },
   "outputs": [
    {
     "name": "stdout",
     "output_type": "stream",
     "text": [
      "On branch master\n",
      "Changes not staged for commit:\n",
      "  (use \"git add <file>...\" to update what will be committed)\n",
      "  (use \"git checkout -- <file>...\" to discard changes in working directory)\n",
      "\n",
      "\tmodified:   hello.py\n",
      "\n",
      "no changes added to commit (use \"git add\" and/or \"git commit -a\")\n"
     ]
    }
   ],
   "source": [
    "! git status"
   ]
  },
  {
   "cell_type": "markdown",
   "metadata": {},
   "source": [
    "___\n",
    "This brings us back to state where the file is shown as **modified**.\n",
    "\n",
    "So finally lets **add** and **commit** the changes."
   ]
  },
  {
   "cell_type": "code",
   "execution_count": 18,
   "metadata": {
    "collapsed": false
   },
   "outputs": [
    {
     "name": "stderr",
     "output_type": "stream",
     "text": [
      "warning: LF will be replaced by CRLF in hello.py.\n",
      "The file will have its original line endings in your working directory.\n"
     ]
    }
   ],
   "source": [
    "! git add hello.py"
   ]
  },
  {
   "cell_type": "code",
   "execution_count": 19,
   "metadata": {
    "collapsed": false
   },
   "outputs": [
    {
     "name": "stdout",
     "output_type": "stream",
     "text": [
      "On branch master\n",
      "Changes to be committed:\n",
      "  (use \"git reset HEAD <file>...\" to unstage)\n",
      "\n",
      "\tmodified:   hello.py\n",
      "\n"
     ]
    }
   ],
   "source": [
    "! git status"
   ]
  },
  {
   "cell_type": "code",
   "execution_count": 20,
   "metadata": {
    "collapsed": false
   },
   "outputs": [
    {
     "name": "stdout",
     "output_type": "stream",
     "text": [
      "[master 6e2b1ec] Included the sys.argv functionality in the code!\n",
      " 1 file changed, 8 insertions(+), 1 deletion(-)\n",
      " rewrite hello.py (100%)\n"
     ]
    }
   ],
   "source": [
    "! git commit -m \"Included the sys.argv functionality in the code!\""
   ]
  },
  {
   "cell_type": "code",
   "execution_count": 21,
   "metadata": {
    "collapsed": false
   },
   "outputs": [
    {
     "name": "stdout",
     "output_type": "stream",
     "text": [
      "On branch master\n",
      "nothing to commit, working tree clean\n"
     ]
    }
   ],
   "source": [
    "! git status"
   ]
  },
  {
   "cell_type": "code",
   "execution_count": 22,
   "metadata": {
    "collapsed": false
   },
   "outputs": [
    {
     "name": "stdout",
     "output_type": "stream",
     "text": [
      "commit 6e2b1ecac6840a2f07b584b5675a81377cee7905\n",
      "Author: bonny3d <bonny3d@gmail.com>\n",
      "Date:   Sun Aug 13 22:14:05 2017 +0200\n",
      "\n",
      "    Included the sys.argv functionality in the code!\n",
      "\n",
      "commit 9b69748727ed981b15f3377ba9de74513260c896\n",
      "Author: bonny3d <bonny3d@gmail.com>\n",
      "Date:   Sat Aug 12 00:54:20 2017 +0200\n",
      "\n",
      "    My first git commit of the hello python script\n"
     ]
    }
   ],
   "source": [
    "! git log"
   ]
  },
  {
   "cell_type": "markdown",
   "metadata": {},
   "source": [
    "___\n",
    "The above log shows the **commits** that we have done so far. It consists of the following:\n",
    "> 1. A **SHA-1 checksum** which can be used to go to that state of the project.\n",
    "> 2. The **aunthors name and email**.\n",
    "> 3. **Date and time**\n",
    "> and the \"commit message\".\n",
    "\n",
    "We can the see the two commits that we have done so far."
   ]
  },
  {
   "cell_type": "markdown",
   "metadata": {},
   "source": [
    "___\n",
    "## Switching between different commits.\n",
    "\n",
    "This is where git becomes really really handy. It saves us from saving our dear \"**hello.py**\" file with the follwing names.\n",
    "> hello1_original_only_print_statement.py\n",
    "\n",
    "> hello2_print_with_arguments.py\n",
    "\n",
    "We have let \"**hello.py**\" retain its original name and saved its different versions in different commits.\n",
    "\n",
    "We can retrieve any version of the file given its SHA-1 number (the commit).\n",
    "\n",
    "First check what are the present contents of the \"**hello.py**\"."
   ]
  },
  {
   "cell_type": "code",
   "execution_count": 1,
   "metadata": {
    "collapsed": false
   },
   "outputs": [
    {
     "name": "stdout",
     "output_type": "stream",
     "text": [
      "import sys\n",
      "args = sys.argv       # sys.args returns a list of arguments which we store as variable args\n",
      "print args            # print the list \"args\"\n",
      "if len(args) > 1 and len(args)==3:     #if condition to check if we provided arguments in the command line.\n",
      "   print args[1], args[2]              # print the desired arguments\n",
      "else:\n",
      "   print \"WARNING! You didnot give any or gave more than 2 arguments hence printing default! \\n \\n\" \n",
      "   print \"Hello, World!\"               # if no arguments provided print the default \"Hello, World!\"\n"
     ]
    }
   ],
   "source": [
    "! cat hello.py"
   ]
  },
  {
   "cell_type": "markdown",
   "metadata": {},
   "source": [
    "___\n",
    "Now use \"**git checkout**\" command to go back to the first version of the file."
   ]
  },
  {
   "cell_type": "code",
   "execution_count": 2,
   "metadata": {
    "collapsed": false
   },
   "outputs": [
    {
     "name": "stderr",
     "output_type": "stream",
     "text": [
      "Note: checking out '9b69748727ed981b15f3377ba9de74513260c896'.\n",
      "\n",
      "You are in 'detached HEAD' state. You can look around, make experimental\n",
      "changes and commit them, and you can discard any commits you make in this\n",
      "state without impacting any branches by performing another checkout.\n",
      "\n",
      "If you want to create a new branch to retain commits you create, you may\n",
      "do so (now or later) by using -b with the checkout command again. Example:\n",
      "\n",
      "  git checkout -b <new-branch-name>\n",
      "\n",
      "HEAD is now at 9b69748... My first git commit of the hello python script\n"
     ]
    }
   ],
   "source": [
    "! git checkout 9b69748727ed981b15f3377ba9de74513260c896"
   ]
  },
  {
   "cell_type": "markdown",
   "metadata": {},
   "source": [
    "___\n",
    "The git output is self explainatory.\n",
    "\n",
    "Check the contents of the file again."
   ]
  },
  {
   "cell_type": "code",
   "execution_count": 3,
   "metadata": {
    "collapsed": false
   },
   "outputs": [
    {
     "name": "stdout",
     "output_type": "stream",
     "text": [
      "print \"Hello, World!\"\n"
     ]
    }
   ],
   "source": [
    "! cat hello.py"
   ]
  },
  {
   "cell_type": "markdown",
   "metadata": {},
   "source": [
    "___\n",
    "Switch back to the latest version using **master**."
   ]
  },
  {
   "cell_type": "code",
   "execution_count": 5,
   "metadata": {
    "collapsed": false
   },
   "outputs": [
    {
     "name": "stderr",
     "output_type": "stream",
     "text": [
      "Previous HEAD position was 9b69748... My first git commit of the hello python script\n",
      "Switched to branch 'master'\n"
     ]
    }
   ],
   "source": [
    "! git checkout master"
   ]
  },
  {
   "cell_type": "code",
   "execution_count": 6,
   "metadata": {
    "collapsed": false
   },
   "outputs": [
    {
     "name": "stdout",
     "output_type": "stream",
     "text": [
      "import sys\n",
      "args = sys.argv       # sys.args returns a list of arguments which we store as variable args\n",
      "print args            # print the list \"args\"\n",
      "if len(args) > 1 and len(args)==3:     #if condition to check if we provided arguments in the command line.\n",
      "   print args[1], args[2]              # print the desired arguments\n",
      "else:\n",
      "   print \"WARNING! You didnot give any or gave more than 2 arguments hence printing default! \\n \\n\" \n",
      "   print \"Hello, World!\"               # if no arguments provided print the default \"Hello, World!\"\n"
     ]
    }
   ],
   "source": [
    "! cat hello.py"
   ]
  },
  {
   "cell_type": "markdown",
   "metadata": {},
   "source": [
    "___\n",
    "Till now, we have the learnt most basic and most used git commands using simple python script.\n",
    "\n",
    "Lets learn about **functions** and **plotting** in python.\n",
    "\n",
    "### Functions and Plotting.\n",
    "\n",
    "Open a file \"**plot.py**\" and type the following in it.\n",
    ">``` python\n",
    ">    import math                             # module for doing math calcualtions in python\n",
    ">    import matplotlib.pyplot as plt         # module for plotting graphs.\n",
    "\n",
    ">    x = [0 + x*(2*math.pi-0)/100 for x in range(100)]      # list of 100 x values bw 0 an 2pi. \n",
    ">    \n",
    ">    def get_sin(x):\n",
    ">    \"\"\"\n",
    ">    This function gives a list of sin(m) where m is an element in list x. \n",
    ">    \"\"\"\n",
    ">       sin_values = []\n",
    ">       for value in x:\n",
    ">          sin_values.append(math.sin(value))\n",
    ">       return sin_values\n",
    "\n",
    ">    y = sin_values(x)\n",
    ">    plt.plot(x,y)\n",
    ">    plt.show()\n",
    "```"
   ]
  },
  {
   "cell_type": "markdown",
   "metadata": {},
   "source": [
    "### Run this file. Analyse the output.\n",
    "\n",
    "## EXERCISE\n",
    "\n",
    "> 1. **add** the file to the staging area.\n",
    "> 2. **commit** the file with a proper message.\n",
    "> 3. check the **log**."
   ]
  },
  {
   "cell_type": "markdown",
   "metadata": {},
   "source": [
    "___\n",
    "## Summary and Outlook\n",
    "> - We have worked with basic **python** scipts.\n",
    "> - We have learned basic **bash** commands.\n",
    "> - We have learned basic and most used **git** commands.\n",
    "> - I hope that you got a hold of what **git** is and what can one do with it.\n",
    "___\n",
    "> - There's is so much more about git that one can learn for e.g. **pretty log**, **aliasing**, **branches**, **conflict management** to cite a few.\n",
    "> - Many resources avaliable to help you learn more.\n",
    "\n",
    ">     [GitHub-Documentation] (http://github.com/doc)\n",
    "\n",
    ">     [Git$\\pm$Immersion] (http://gitimmersion.com/)"
   ]
  },
  {
   "cell_type": "code",
   "execution_count": null,
   "metadata": {
    "collapsed": true
   },
   "outputs": [],
   "source": []
  }
 ],
 "metadata": {
  "kernelspec": {
   "display_name": "Python 2",
   "language": "python",
   "name": "python2"
  },
  "language_info": {
   "codemirror_mode": {
    "name": "ipython",
    "version": 2
   },
   "file_extension": ".py",
   "mimetype": "text/x-python",
   "name": "python",
   "nbconvert_exporter": "python",
   "pygments_lexer": "ipython2",
   "version": "2.7.13"
  }
 },
 "nbformat": 4,
 "nbformat_minor": 2
}
